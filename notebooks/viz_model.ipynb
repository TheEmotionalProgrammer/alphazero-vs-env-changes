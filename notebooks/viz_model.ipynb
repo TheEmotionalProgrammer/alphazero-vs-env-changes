{
 "cells": [
  {
   "cell_type": "code",
   "execution_count": 3,
   "metadata": {},
   "outputs": [],
   "source": [
    "import sys\n",
    "sys.path.append('../src/')\n",
    "from tqdm import tqdm\n",
    "import pandas as pd\n",
    "import wandb\n",
    "import seaborn as sns\n",
    "import numpy as np\n",
    "import matplotlib.pyplot as plt\n",
    "import gymnasium as gym\n",
    "import experiments.parameters as parameters\n",
    "from environments.observation_embeddings import CoordinateEmbedding, ObservationEmbedding\n"
   ]
  },
  {
   "cell_type": "code",
   "execution_count": 9,
   "metadata": {},
   "outputs": [
    {
     "name": "stdout",
     "output_type": "stream",
     "text": [
      "nrows: 6, ncols: 12\n"
     ]
    },
    {
     "data": {
      "text/plain": [
       "{0: -16.0,\n",
       " 1: -15.0,\n",
       " 2: -14.0,\n",
       " 3: -13.0,\n",
       " 4: -12.0,\n",
       " 5: -11.0,\n",
       " 6: -10.0,\n",
       " 7: -9.0,\n",
       " 8: -8.0,\n",
       " 9: -7.0,\n",
       " 10: -6.0,\n",
       " 11: -5.0,\n",
       " 12: -15.0,\n",
       " 13: -14.0,\n",
       " 14: -13.0,\n",
       " 15: -12.0,\n",
       " 16: -11.0,\n",
       " 17: -10.0,\n",
       " 18: -9.0,\n",
       " 19: -8.0,\n",
       " 20: -7.0,\n",
       " 21: -6.0,\n",
       " 22: -5.0,\n",
       " 23: -4.0,\n",
       " 24: -14.0,\n",
       " 25: -13.0,\n",
       " 26: -12.0,\n",
       " 27: -11.0,\n",
       " 28: -10.0,\n",
       " 29: -9.0,\n",
       " 30: -8.0,\n",
       " 31: -7.0,\n",
       " 32: -6.0,\n",
       " 33: -5.0,\n",
       " 34: -4.0,\n",
       " 35: -3.0,\n",
       " 36: -13.0,\n",
       " 37: -12.0,\n",
       " 38: -11.0,\n",
       " 39: -10.0,\n",
       " 40: -9.0,\n",
       " 41: -8.0,\n",
       " 42: -7.0,\n",
       " 43: -6.0,\n",
       " 44: -5.0,\n",
       " 45: -4.0,\n",
       " 46: -3.0,\n",
       " 47: -2.0,\n",
       " 48: -12.0,\n",
       " 49: -11.0,\n",
       " 50: -10.0,\n",
       " 51: -9.0,\n",
       " 52: -8.0,\n",
       " 53: -7.0,\n",
       " 54: -6.0,\n",
       " 55: -5.0,\n",
       " 56: -4.0,\n",
       " 57: -3.0,\n",
       " 58: -2.0,\n",
       " 59: -1.0,\n",
       " 60: -13.0,\n",
       " 61: -12.0,\n",
       " 62: -11.0,\n",
       " 63: -10.0,\n",
       " 64: -9.0,\n",
       " 65: -8.0,\n",
       " 66: -7.0,\n",
       " 67: -6.0,\n",
       " 68: -5.0,\n",
       " 69: -4.0,\n",
       " 70: -3.0,\n",
       " 71: -2.0}"
      ]
     },
     "execution_count": 9,
     "metadata": {},
     "output_type": "execute_result"
    }
   ],
   "source": [
    "from core.mcts import MCTS, DistanceMCTS\n",
    "from log_code.investigate_model import create_figure_and_axes, plot_value_network\n",
    "\n",
    "\n",
    "challenge = parameters.env_challenges[1]\n",
    "\n",
    "hparams = {**parameters.base_parameters, **challenge}\n",
    "env = gym.make(**hparams[\"env_params\"])\n",
    "observation_embedding: ObservationEmbedding = CoordinateEmbedding(env.observation_space, hparams[\"ncols\"] if \"ncols\" in hparams else 12)\n",
    "\n",
    "\n",
    "agent = DistanceMCTS(\n",
    "    embedding= observation_embedding,\n",
    "    root_selection_policy=None,\n",
    "    selection_policy=None,\n",
    "    discount_factor=None,\n",
    "    )\n",
    "\n",
    "rows, cols = observation_embedding.nrows, observation_embedding.ncols\n",
    "goal_state = agent.goal_state\n",
    "def value_from_obs(observation, discount_factor=.99):\n",
    "\n",
    "\n",
    "        \"\"\"\n",
    "        There are (rows-1) x cols + 1 possible states. The player cannot be at the cliff, nor at the goal as the latter results in the end of the episode. What remains are all the positions of the first 3 rows plus the bottom-left cell.\n",
    "        The observation is a value representing the player’s current position as current_row * nrows + current_col (where both the row and col start at 0).\n",
    "        For example, the stating position can be calculated as follows: (rows-1) * cols + 0 = 36.\n",
    "        \"\"\"\n",
    "        goal_row = goal_state // cols\n",
    "        goal_col = goal_state % cols\n",
    "        current_row = observation // cols\n",
    "        current_col = observation % cols\n",
    "\n",
    "        col_diff = abs(goal_col - current_col)\n",
    "        row_diff = abs(goal_row - current_row)\n",
    "        manhattan_distance = col_diff + row_diff\n",
    "        # special case for cliffwalking env\n",
    "        # if we are in the last row, we need to add two since we cannot go directly to the goal (cuz cliff)\n",
    "        if cols == 12:\n",
    "            if current_row == rows - 1:\n",
    "                manhattan_distance += 2\n",
    "            return - float(manhattan_distance)\n",
    "        else:\n",
    "            return 1.0 * discount_factor ** manhattan_distance\n",
    "def investigate_model():\n",
    "    return {obs: value_from_obs(obs) for obs in range(observation_embedding.observation_space.n)}\n",
    "\n",
    "output = investigate_model()\n",
    "output"
   ]
  },
  {
   "cell_type": "code",
   "execution_count": 23,
   "metadata": {},
   "outputs": [
    {
     "data": {
      "image/png": "[encoded data removed]",
      "text/plain": [
       "<Figure size 640x480 with 1 Axes>"
      ]
     },
     "metadata": {},
     "output_type": "display_data"
    }
   ],
   "source": [
    "\n",
    "grid = np.zeros((rows, cols))\n",
    "for state, value in output.items():\n",
    "    row, col = divmod(state, cols)\n",
    "    grid[row, col] = value\n",
    "\n",
    "# turn of axis labels\n",
    "sns.heatmap(grid, annot=True, fmt=\".0f\", cbar=False, square=True, cmap=\"Greens\", xticklabels=False, yticklabels=False)\n",
    "plt.show()"
   ]
  }
 ],
 "metadata": {
  "kernelspec": {
   "display_name": "az10",
   "language": "python",
   "name": "python3"
  },
  "language_info": {
   "codemirror_mode": {
    "name": "ipython",
    "version": 3
   },
   "file_extension": ".py",
   "mimetype": "text/x-python",
   "name": "python",
   "nbconvert_exporter": "python",
   "pygments_lexer": "ipython3",
   "version": "3.10.13"
  }
 },
 "nbformat": 4,
 "nbformat_minor": 2
}
