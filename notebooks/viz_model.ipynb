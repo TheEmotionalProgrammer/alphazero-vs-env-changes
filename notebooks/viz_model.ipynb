{
 "cells": [
  {
   "cell_type": "code",
   "execution_count": 11,
   "metadata": {},
   "outputs": [],
   "source": [
    "import sys\n",
    "sys.path.append('../src/')\n",
    "from tqdm import tqdm\n",
    "import pandas as pd\n",
    "import wandb\n",
    "import seaborn as sns\n",
    "import numpy as np\n",
    "import matplotlib.pyplot as plt\n",
    "import gymnasium as gym\n",
    "import experiments.parameters as parameters\n",
    "from environments.observation_embeddings import CoordinateEmbedding, ObservationEmbedding\n"
   ]
  },
  {
   "cell_type": "code",
   "execution_count": 12,
   "metadata": {},
   "outputs": [
    {
     "name": "stdout",
     "output_type": "stream",
     "text": [
      "nrows: 4, ncols: 4\n"
     ]
    },
    {
     "data": {
      "text/plain": [
       "{0: 0.7350918906249998,\n",
       " 1: 0.7737809374999998,\n",
       " 2: 0.8145062499999999,\n",
       " 3: 0.8573749999999999,\n",
       " 4: 0.7737809374999998,\n",
       " 5: 0.8145062499999999,\n",
       " 6: 0.8573749999999999,\n",
       " 7: 0.9025,\n",
       " 8: 0.8145062499999999,\n",
       " 9: 0.8573749999999999,\n",
       " 10: 0.9025,\n",
       " 11: 0.95,\n",
       " 12: 0.8573749999999999,\n",
       " 13: 0.9025,\n",
       " 14: 0.95,\n",
       " 15: 1.0}"
      ]
     },
     "execution_count": 12,
     "metadata": {},
     "output_type": "execute_result"
    }
   ],
   "source": [
    "from core.mcts import MCTS, DistanceMCTS\n",
    "from log_code.investigate_model import create_figure_and_axes, plot_value_network\n",
    "\n",
    "\n",
    "challenge = parameters.env_challenges[2]\n",
    "\n",
    "hparams = {**parameters.base_parameters, **challenge}\n",
    "env = gym.make(**hparams[\"env_params\"])\n",
    "observation_embedding: ObservationEmbedding = CoordinateEmbedding(env.observation_space, hparams[\"ncols\"] if \"ncols\" in hparams else 12)\n",
    "\n",
    "\n",
    "agent = DistanceMCTS(\n",
    "    embedding= observation_embedding,\n",
    "    root_selection_policy=None,\n",
    "    selection_policy=None,\n",
    "    discount_factor=hparams[\"discount_factor\"],\n",
    "    )\n",
    "\n",
    "rows, cols = observation_embedding.nrows, observation_embedding.ncols\n",
    "goal_state = agent.goal_state\n",
    "def value_from_obs(observation, discount_factor=hparams[\"discount_factor\"]):\n",
    "\n",
    "\n",
    "        \"\"\"\n",
    "        There are (rows-1) x cols + 1 possible states. The player cannot be at the cliff, nor at the goal as the latter results in the end of the episode. What remains are all the positions of the first 3 rows plus the bottom-left cell.\n",
    "        The observation is a value representing the player’s current position as current_row * nrows + current_col (where both the row and col start at 0).\n",
    "        For example, the stating position can be calculated as follows: (rows-1) * cols + 0 = 36.\n",
    "        \"\"\"\n",
    "        goal_row = goal_state // cols\n",
    "        goal_col = goal_state % cols\n",
    "        current_row = observation // cols\n",
    "        current_col = observation % cols\n",
    "\n",
    "        col_diff = abs(goal_col - current_col)\n",
    "        row_diff = abs(goal_row - current_row)\n",
    "        manhattan_distance = col_diff + row_diff\n",
    "        # special case for cliffwalking env\n",
    "        # if we are in the last row, we need to add two since we cannot go directly to the goal (cuz cliff)\n",
    "        if cols == 12:\n",
    "            if current_row == rows - 1:\n",
    "                manhattan_distance += 2\n",
    "            return - float(manhattan_distance)\n",
    "        else:\n",
    "            return 1.0 * discount_factor ** manhattan_distance\n",
    "def investigate_model():\n",
    "    return {obs: value_from_obs(obs) for obs in range(observation_embedding.observation_space.n)}\n",
    "\n",
    "output = investigate_model()\n",
    "output"
   ]
  },
  {
   "cell_type": "code",
   "execution_count": 13,
   "metadata": {},
   "outputs": [
    {
     "data": {
      "image/png": "[encoded data removed]",
      "text/plain": [
       "<Figure size 640x480 with 1 Axes>"
      ]
     },
     "metadata": {},
     "output_type": "display_data"
    }
   ],
   "source": [
    "\n",
    "grid = np.zeros((rows, cols))\n",
    "for state, value in output.items():\n",
    "    row, col = divmod(state, cols)\n",
    "    grid[row, col] = value\n",
    "\n",
    "# turn of axis labels\n",
    "sns.heatmap(grid, annot=True, fmt=\".2f\", cbar=False, square=True, cmap=\"Greens\", xticklabels=False, yticklabels=False)\n",
    "plt.savefig(\"cliff_heuristic.pdf\")\n",
    "plt.show()"
   ]
  }
 ],
 "metadata": {
  "kernelspec": {
   "display_name": "az10",
   "language": "python",
   "name": "python3"
  },
  "language_info": {
   "codemirror_mode": {
    "name": "ipython",
    "version": 3
   },
   "file_extension": ".py",
   "mimetype": "text/x-python",
   "name": "python",
   "nbconvert_exporter": "python",
   "pygments_lexer": "ipython3",
   "version": "3.10.13"
  }
 },
 "nbformat": 4,
 "nbformat_minor": 2
}
