{
 "cells": [
  {
   "cell_type": "code",
   "execution_count": 1,
   "metadata": {},
   "outputs": [],
   "source": [
    "import sys\n",
    "sys.path.append('../src/')\n",
    "from tqdm import tqdm\n",
    "import pandas as pd\n",
    "import wandb\n",
    "import seaborn as sns\n",
    "import numpy as np\n",
    "import matplotlib.pyplot as plt\n"
   ]
  },
  {
   "cell_type": "code",
   "execution_count": 3,
   "metadata": {},
   "outputs": [
    {
     "data": {
      "text/plain": [
       "<Runs ajzero/AlphaZero>"
      ]
     },
     "execution_count": 3,
     "metadata": {},
     "output_type": "execute_result"
    }
   ],
   "source": [
    "api = wandb.Api()\n",
    "entity, project = \"ajzero\", \"AlphaZero\"\n",
    "tags = ['2024-04-22-15-50-58']\n",
    "filters = {\"tags\": {\"$in\": tags}, \"state\": \"finished\"}\n",
    "runs = api.runs(entity + \"/\" + project, filters=filters)\n",
    "runs\n"
   ]
  },
  {
   "cell_type": "code",
   "execution_count": 6,
   "metadata": {},
   "outputs": [],
   "source": [
    "run = api.run(\"ajzero/AlphaZero/d98ca3ru\")\n",
    "runs = [run]"
   ]
  },
  {
   "cell_type": "code",
   "execution_count": 7,
   "metadata": {},
   "outputs": [
    {
     "name": "stderr",
     "output_type": "stream",
     "text": [
      "100%|██████████| 1/1 [00:00<00:00, 491.42it/s]"
     ]
    },
    {
     "name": "stderr",
     "output_type": "stream",
     "text": [
      "\n"
     ]
    },
    {
     "data": {
      "text/html": [
       "<div>\n",
       "<style scoped>\n",
       "    .dataframe tbody tr th:only-of-type {\n",
       "        vertical-align: middle;\n",
       "    }\n",
       "\n",
       "    .dataframe tbody tr th {\n",
       "        vertical-align: top;\n",
       "    }\n",
       "\n",
       "    .dataframe thead th {\n",
       "        text-align: right;\n",
       "    }\n",
       "</style>\n",
       "<table border=\"1\" class=\"dataframe\">\n",
       "  <thead>\n",
       "    <tr style=\"text-align: right;\">\n",
       "      <th></th>\n",
       "      <th>Training/Value_Simularities</th>\n",
       "      <th>Evaluation/Timesteps</th>\n",
       "      <th>Self_Play/Mean_Timesteps</th>\n",
       "      <th>Self_Play/Entropies</th>\n",
       "      <th>Self_Play/EMA_Discounted_Return</th>\n",
       "      <th>visit_counts</th>\n",
       "      <th>Training/Replay_Buffer_Size</th>\n",
       "      <th>Self_Play/Total_Timesteps</th>\n",
       "      <th>Training/Policy_loss</th>\n",
       "      <th>value_network</th>\n",
       "      <th>...</th>\n",
       "      <th>policy_loss_weight</th>\n",
       "      <th>sample_batch_ratio</th>\n",
       "      <th>tree_value_transform</th>\n",
       "      <th>observation_embedding</th>\n",
       "      <th>regularization_weight</th>\n",
       "      <th>root_selection_policy</th>\n",
       "      <th>episodes_per_iteration</th>\n",
       "      <th>tree_evaluation_policy</th>\n",
       "      <th>replay_buffer_multiplier</th>\n",
       "      <th>selection_value_transform</th>\n",
       "    </tr>\n",
       "  </thead>\n",
       "  <tbody>\n",
       "    <tr>\n",
       "      <th>0</th>\n",
       "      <td>0.90777</td>\n",
       "      <td>{'bins': [99.5, 99.515625, 99.53125, 99.546875...</td>\n",
       "      <td>21.666667</td>\n",
       "      <td>{'values': [1, 0, 0, 0, 0, 0, 0, 0, 0, 0, 1, 0...</td>\n",
       "      <td>-20.855749</td>\n",
       "      <td>{'format': 'png', 'height': 480, 'sha256': '2e...</td>\n",
       "      <td>60</td>\n",
       "      <td>130</td>\n",
       "      <td>0.862699</td>\n",
       "      <td>{'format': 'png', 'height': 480, 'sha256': 'bf...</td>\n",
       "      <td>...</td>\n",
       "      <td>0.3</td>\n",
       "      <td>1</td>\n",
       "      <td>identity</td>\n",
       "      <td>coordinate</td>\n",
       "      <td>0.000001</td>\n",
       "      <td>PolicyPUCT</td>\n",
       "      <td>6</td>\n",
       "      <td>mvc</td>\n",
       "      <td>10</td>\n",
       "      <td>identity</td>\n",
       "    </tr>\n",
       "  </tbody>\n",
       "</table>\n",
       "<p>1 rows × 77 columns</p>\n",
       "</div>"
      ],
      "text/plain": [
       "   Training/Value_Simularities  \\\n",
       "0                      0.90777   \n",
       "\n",
       "                                Evaluation/Timesteps  \\\n",
       "0  {'bins': [99.5, 99.515625, 99.53125, 99.546875...   \n",
       "\n",
       "   Self_Play/Mean_Timesteps  \\\n",
       "0                 21.666667   \n",
       "\n",
       "                                 Self_Play/Entropies  \\\n",
       "0  {'values': [1, 0, 0, 0, 0, 0, 0, 0, 0, 0, 1, 0...   \n",
       "\n",
       "   Self_Play/EMA_Discounted_Return  \\\n",
       "0                       -20.855749   \n",
       "\n",
       "                                        visit_counts  \\\n",
       "0  {'format': 'png', 'height': 480, 'sha256': '2e...   \n",
       "\n",
       "   Training/Replay_Buffer_Size  Self_Play/Total_Timesteps  \\\n",
       "0                           60                        130   \n",
       "\n",
       "   Training/Policy_loss                                      value_network  \\\n",
       "0              0.862699  {'format': 'png', 'height': 480, 'sha256': 'bf...   \n",
       "\n",
       "   ... policy_loss_weight sample_batch_ratio  tree_value_transform  \\\n",
       "0  ...                0.3                  1              identity   \n",
       "\n",
       "   observation_embedding  regularization_weight  root_selection_policy  \\\n",
       "0             coordinate               0.000001             PolicyPUCT   \n",
       "\n",
       "  episodes_per_iteration  tree_evaluation_policy  replay_buffer_multiplier  \\\n",
       "0                      6                     mvc                        10   \n",
       "\n",
       "   selection_value_transform  \n",
       "0                   identity  \n",
       "\n",
       "[1 rows x 77 columns]"
      ]
     },
     "execution_count": 7,
     "metadata": {},
     "output_type": "execute_result"
    }
   ],
   "source": [
    "data = []\n",
    "for run in tqdm(runs):\n",
    "    summary = run.summary._json_dict\n",
    "    config = run.config\n",
    "    summary.update(config)\n",
    "    data.append(summary)\n",
    "\n",
    "df = pd.DataFrame(data)\n",
    "df"
   ]
  },
  {
   "cell_type": "code",
   "execution_count": 8,
   "metadata": {},
   "outputs": [
    {
     "data": {
      "text/plain": [
       "0    [[60, 60, 60, 60, 60, 60, 60, 60, 60, 60, 60, ...\n",
       "Name: Evaluation/Trajectories, dtype: object"
      ]
     },
     "execution_count": 8,
     "metadata": {},
     "output_type": "execute_result"
    }
   ],
   "source": [
    "df[\"Evaluation/Trajectories\"]"
   ]
  },
  {
   "cell_type": "code",
   "execution_count": 9,
   "metadata": {},
   "outputs": [
    {
     "data": {
      "text/plain": [
       "{'mvc+PolicyPUCT': [[60,\n",
       "   60,\n",
       "   60,\n",
       "   60,\n",
       "   60,\n",
       "   60,\n",
       "   60,\n",
       "   60,\n",
       "   60,\n",
       "   60,\n",
       "   60,\n",
       "   60,\n",
       "   60,\n",
       "   60,\n",
       "   60,\n",
       "   60,\n",
       "   60,\n",
       "   60,\n",
       "   60,\n",
       "   60,\n",
       "   60,\n",
       "   60,\n",
       "   60,\n",
       "   60,\n",
       "   60,\n",
       "   60,\n",
       "   60,\n",
       "   60,\n",
       "   60,\n",
       "   60,\n",
       "   60,\n",
       "   60,\n",
       "   60,\n",
       "   60,\n",
       "   60,\n",
       "   60,\n",
       "   60,\n",
       "   60,\n",
       "   60,\n",
       "   60,\n",
       "   60,\n",
       "   60,\n",
       "   60,\n",
       "   60,\n",
       "   60,\n",
       "   60,\n",
       "   60,\n",
       "   60,\n",
       "   60,\n",
       "   60,\n",
       "   60,\n",
       "   60,\n",
       "   60,\n",
       "   60,\n",
       "   60,\n",
       "   60,\n",
       "   60,\n",
       "   60,\n",
       "   60,\n",
       "   60,\n",
       "   60,\n",
       "   60,\n",
       "   60,\n",
       "   60,\n",
       "   60,\n",
       "   60,\n",
       "   60,\n",
       "   60,\n",
       "   60,\n",
       "   60,\n",
       "   60,\n",
       "   60,\n",
       "   60,\n",
       "   60,\n",
       "   60,\n",
       "   60,\n",
       "   60,\n",
       "   60,\n",
       "   60,\n",
       "   60,\n",
       "   60,\n",
       "   60,\n",
       "   60,\n",
       "   60,\n",
       "   60,\n",
       "   60,\n",
       "   60,\n",
       "   60,\n",
       "   60,\n",
       "   60,\n",
       "   60,\n",
       "   60,\n",
       "   60,\n",
       "   60,\n",
       "   60,\n",
       "   60,\n",
       "   60,\n",
       "   60,\n",
       "   60,\n",
       "   60]]}"
      ]
     },
     "execution_count": 9,
     "metadata": {},
     "output_type": "execute_result"
    }
   ],
   "source": [
    "df['policy_combination'] = df['tree_evaluation_policy'] + \"+\" + df['selection_policy']\n",
    "# group the data by policy combination and extract a dict trajo = {$policy_combination: trajectories} where trajectories is a merge of all the lists in the trajectories column for each group\n",
    "# Step 1: Group the DataFrame by 'policy_combination'\n",
    "grouped = df.groupby('policy_combination')['Evaluation/Trajectories']\n",
    "\n",
    "# Step 2: Aggregate the trajectories lists within each group\n",
    "aggregated_trajectories = grouped.sum()\n",
    "\n",
    "# Step 3: Convert the aggregated groups to a dictionary\n",
    "trajos = aggregated_trajectories.to_dict()\n",
    "trajos"
   ]
  },
  {
   "cell_type": "code",
   "execution_count": 10,
   "metadata": {},
   "outputs": [
    {
     "data": {
      "text/plain": [
       "[[60,\n",
       "  60,\n",
       "  60,\n",
       "  60,\n",
       "  60,\n",
       "  60,\n",
       "  60,\n",
       "  60,\n",
       "  60,\n",
       "  60,\n",
       "  60,\n",
       "  60,\n",
       "  60,\n",
       "  60,\n",
       "  60,\n",
       "  60,\n",
       "  60,\n",
       "  60,\n",
       "  60,\n",
       "  60,\n",
       "  60,\n",
       "  60,\n",
       "  60,\n",
       "  60,\n",
       "  60,\n",
       "  60,\n",
       "  60,\n",
       "  60,\n",
       "  60,\n",
       "  60,\n",
       "  60,\n",
       "  60,\n",
       "  60,\n",
       "  60,\n",
       "  60,\n",
       "  60,\n",
       "  60,\n",
       "  60,\n",
       "  60,\n",
       "  60,\n",
       "  60,\n",
       "  60,\n",
       "  60,\n",
       "  60,\n",
       "  60,\n",
       "  60,\n",
       "  60,\n",
       "  60,\n",
       "  60,\n",
       "  60,\n",
       "  60,\n",
       "  60,\n",
       "  60,\n",
       "  60,\n",
       "  60,\n",
       "  60,\n",
       "  60,\n",
       "  60,\n",
       "  60,\n",
       "  60,\n",
       "  60,\n",
       "  60,\n",
       "  60,\n",
       "  60,\n",
       "  60,\n",
       "  60,\n",
       "  60,\n",
       "  60,\n",
       "  60,\n",
       "  60,\n",
       "  60,\n",
       "  60,\n",
       "  60,\n",
       "  60,\n",
       "  60,\n",
       "  60,\n",
       "  60,\n",
       "  60,\n",
       "  60,\n",
       "  60,\n",
       "  60,\n",
       "  60,\n",
       "  60,\n",
       "  60,\n",
       "  60,\n",
       "  60,\n",
       "  60,\n",
       "  60,\n",
       "  60,\n",
       "  60,\n",
       "  60,\n",
       "  60,\n",
       "  60,\n",
       "  60,\n",
       "  60,\n",
       "  60,\n",
       "  60,\n",
       "  60,\n",
       "  60,\n",
       "  60]]"
      ]
     },
     "execution_count": 10,
     "metadata": {},
     "output_type": "execute_result"
    }
   ],
   "source": [
    "\n",
    "trajectories = trajos[\"mvc+PolicyPUCT\"]\n",
    "trajectories"
   ]
  },
  {
   "cell_type": "code",
   "execution_count": 11,
   "metadata": {},
   "outputs": [
    {
     "data": {
      "text/plain": [
       "array([[  0,   0,   0,   0,   0,   0,   0,   0,   0,   0,   0,   0],\n",
       "       [  0,   0,   0,   0,   0,   0,   0,   0,   0,   0,   0,   0],\n",
       "       [  0,   0,   0,   0,   0,   0,   0,   0,   0,   0,   0,   0],\n",
       "       [  0,   0,   0,   0,   0,   0,   0,   0,   0,   0,   0,   0],\n",
       "       [  0,   0,   0,   0,   0,   0,   0,   0,   0,   0,   0,   0],\n",
       "       [100,   0,   0,   0,   0,   0,   0,   0,   0,   0,   0,   0]])"
      ]
     },
     "execution_count": 11,
     "metadata": {},
     "output_type": "execute_result"
    }
   ],
   "source": [
    "def obs_to_cords(state, ncols):\n",
    "    row, col = divmod(state, ncols)\n",
    "    return row, col\n",
    "\n",
    "ncols, nrows = df[\"ncols\"][0], 6\n",
    "# trajectories is list of trajectories where each trajectory is list of states\n",
    "\n",
    "visits = np.zeros((nrows, ncols), dtype = int)\n",
    "for trajectory in trajectories:\n",
    "    for state in trajectory:\n",
    "        row, col = obs_to_cords(state, ncols = ncols)\n",
    "        visits[row, col] += 1\n",
    "\n",
    "visits"
   ]
  },
  {
   "cell_type": "code",
   "execution_count": 12,
   "metadata": {},
   "outputs": [
    {
     "data": {
      "text/plain": [
       "array([[0., 0., 0., 0., 0., 0., 0., 0., 0., 0., 0., 0.],\n",
       "       [0., 0., 0., 0., 0., 0., 0., 0., 0., 0., 0., 0.],\n",
       "       [0., 0., 0., 0., 0., 0., 0., 0., 0., 0., 0., 0.],\n",
       "       [0., 0., 0., 0., 0., 0., 0., 0., 0., 0., 0., 0.],\n",
       "       [0., 0., 0., 0., 0., 0., 0., 0., 0., 0., 0., 0.],\n",
       "       [1., 0., 0., 0., 0., 0., 0., 0., 0., 0., 0., 0.]])"
      ]
     },
     "execution_count": 12,
     "metadata": {},
     "output_type": "execute_result"
    }
   ],
   "source": [
    "density = visits / visits.sum()\n",
    "density"
   ]
  },
  {
   "cell_type": "code",
   "execution_count": 13,
   "metadata": {},
   "outputs": [
    {
     "data": {
      "image/png": "[encoded data removed]",
      "text/plain": [
       "<Figure size 500x500 with 1 Axes>"
      ]
     },
     "metadata": {},
     "output_type": "display_data"
    }
   ],
   "source": [
    "# render env heatmap with density\n",
    "plt.figure(figsize=(5, 5))\n",
    "# remove the numbers on x and y axis\n",
    "sns.heatmap(density, annot=False, cmap=\"viridis\", cbar=False)\n",
    "plt.title(\"Density of Visits\")\n",
    "plt.show()"
   ]
  },
  {
   "cell_type": "code",
   "execution_count": 14,
   "metadata": {},
   "outputs": [
    {
     "data": {
      "image/png": "[encoded data removed]",
      "text/plain": [
       "<Figure size 640x480 with 1 Axes>"
      ]
     },
     "metadata": {},
     "output_type": "display_data"
    }
   ],
   "source": [
    "# Define offsets for each trajectory to reduce overlap\n",
    "offsets = np.linspace(-0.1, 0.1, len(trajectories))\n",
    "\n",
    "# Create a plot\n",
    "fig, ax = plt.subplots()\n",
    "ax.set_xlim(-0.5, ncols-0.5)\n",
    "ax.set_ylim(-0.5, nrows-0.5)\n",
    "\n",
    "ax.invert_yaxis()  # Invert the y-axis so the top-left is (0,0)\n",
    "\n",
    "# Plot each trajectory with offset\n",
    "for idx, (trajectory, offset) in enumerate(zip(trajectories, offsets)):\n",
    "    coords = [obs_to_cords(state, ncols) for state in trajectory]\n",
    "    rows, cols = zip(*coords)\n",
    "    # Apply the offset\n",
    "    cols = [col + offset for col in cols]\n",
    "    rows = [row + offset for row in rows]\n",
    "    ax.plot(cols, rows, label=f'Trajectory {idx+1}')\n",
    "\n",
    "\n",
    "plt.show()"
   ]
  },
  {
   "cell_type": "code",
   "execution_count": 15,
   "metadata": {},
   "outputs": [
    {
     "data": {
      "image/png": "[encoded data removed]",
      "text/plain": [
       "<Figure size 640x480 with 2 Axes>"
      ]
     },
     "metadata": {},
     "output_type": "display_data"
    }
   ],
   "source": [
    "# Initialize the grid matrix\n",
    "density = np.zeros((nrows, ncols))\n",
    "\n",
    "# Increment the density for each state visited in each trajectory\n",
    "for trajectory in trajectories:\n",
    "    for state in trajectory:\n",
    "        row, col = obs_to_cords(state, ncols)\n",
    "        density[row, col] += 1\n",
    "\n",
    "# Create a heatmap\n",
    "fig, ax = plt.subplots()\n",
    "cax = ax.matshow(density, cmap='viridis')\n",
    "fig.colorbar(cax)\n",
    "ax.set_xticks(range(ncols))\n",
    "ax.set_yticks(range(nrows))\n",
    "ax.set_xticklabels(range(ncols))\n",
    "ax.set_yticklabels(range(nrows))\n",
    "ax.set_xlabel('Column')\n",
    "ax.set_ylabel('Row')\n",
    "ax.set_title('Trajectory Density')\n",
    "\n",
    "plt.show()"
   ]
  },
  {
   "cell_type": "code",
   "execution_count": 16,
   "metadata": {},
   "outputs": [],
   "source": [
    "# plot heatmap of the density"
   ]
  },
  {
   "cell_type": "code",
   "execution_count": 17,
   "metadata": {},
   "outputs": [
    {
     "data": {
      "image/png": "[encoded data removed]",
      "text/plain": [
       "<Figure size 640x480 with 1 Axes>"
      ]
     },
     "metadata": {},
     "output_type": "display_data"
    }
   ],
   "source": [
    "def calculate_density(trajectories, ncols, nrows):\n",
    "    density = np.zeros((nrows, ncols))\n",
    "    for trajectory in trajectories:\n",
    "        for state in trajectory:\n",
    "            row, col = obs_to_cords(state, ncols)\n",
    "            density[row, col] += 1\n",
    "    return density\n",
    "fig, ax = plt.subplots()\n",
    "alpha = 1.0  # Transparency level\n",
    "cmaps = ['Reds', 'Blues', 'Greens', 'Oranges', 'Purples', 'Greys']\n",
    "for trajectory_name in trajos.keys():\n",
    "    trajectories = trajos[trajectory_name]\n",
    "    density = calculate_density(trajectories, ncols, nrows)\n",
    "    ax.imshow(density, cmap=cmaps.pop(), alpha=alpha)\n",
    "ax.set_xticks(range(ncols))\n",
    "ax.set_yticks(range(nrows))\n",
    "ax.set_title('Overlayed Density Heatmaps')\n",
    "\n",
    "plt.show()"
   ]
  },
  {
   "cell_type": "code",
   "execution_count": 18,
   "metadata": {},
   "outputs": [
    {
     "ename": "TypeError",
     "evalue": "'Axes' object is not subscriptable",
     "output_type": "error",
     "traceback": [
      "\u001b[0;31m---------------------------------------------------------------------------\u001b[0m",
      "\u001b[0;31mTypeError\u001b[0m                                 Traceback (most recent call last)",
      "Cell \u001b[0;32mIn[18], line 8\u001b[0m\n\u001b[1;32m      6\u001b[0m \u001b[38;5;28;01mfor\u001b[39;00m idx, (trajectory_name, trajectories) \u001b[38;5;129;01min\u001b[39;00m \u001b[38;5;28menumerate\u001b[39m(trajos\u001b[38;5;241m.\u001b[39mitems()):\n\u001b[1;32m      7\u001b[0m     density \u001b[38;5;241m=\u001b[39m calculate_density(trajectories, ncols, nrows) \u001b[38;5;241m/\u001b[39m \u001b[38;5;28mlen\u001b[39m(trajectories)\n\u001b[0;32m----> 8\u001b[0m     sns\u001b[38;5;241m.\u001b[39mheatmap(density, ax\u001b[38;5;241m=\u001b[39m\u001b[43maxs\u001b[49m\u001b[43m[\u001b[49m\u001b[43midx\u001b[49m\u001b[43m]\u001b[49m, cmap\u001b[38;5;241m=\u001b[39m\u001b[38;5;124m'\u001b[39m\u001b[38;5;124mGreens\u001b[39m\u001b[38;5;124m'\u001b[39m, cbar\u001b[38;5;241m=\u001b[39m\u001b[38;5;28;01mFalse\u001b[39;00m, annot\u001b[38;5;241m=\u001b[39m\u001b[38;5;28;01mTrue\u001b[39;00m, fmt\u001b[38;5;241m=\u001b[39m\u001b[38;5;124m'\u001b[39m\u001b[38;5;124m.1f\u001b[39m\u001b[38;5;124m'\u001b[39m)\n\u001b[1;32m      9\u001b[0m     axs[idx]\u001b[38;5;241m.\u001b[39mset_title(trajectory_name)\n\u001b[1;32m     10\u001b[0m     axs[idx]\u001b[38;5;241m.\u001b[39mset_xticks(\u001b[38;5;28mrange\u001b[39m(ncols))\n",
      "\u001b[0;31mTypeError\u001b[0m: 'Axes' object is not subscriptable"
     ]
    },
    {
     "data": {
      "image/png": "[encoded data removed]",
      "text/plain": [
       "<Figure size 1200x600 with 1 Axes>"
      ]
     },
     "metadata": {},
     "output_type": "display_data"
    }
   ],
   "source": [
    "# create subplots where each subplot is a heatmap of the density of visits for a trajectory. use seaborn, matplotlib or any other library\n",
    "\n",
    "heatmaps = len(trajos)\n",
    "\n",
    "fig, axs = plt.subplots(1, heatmaps, figsize=(ncols*heatmaps, nrows))\n",
    "for idx, (trajectory_name, trajectories) in enumerate(trajos.items()):\n",
    "    density = calculate_density(trajectories, ncols, nrows) / len(trajectories)\n",
    "    sns.heatmap(density, ax=axs[idx], cmap='Greens', cbar=False, annot=True, fmt='.1f')\n",
    "    axs[idx].set_title(trajectory_name)\n",
    "    axs[idx].set_xticks(range(ncols))\n",
    "    axs[idx].set_yticks(range(nrows))\n",
    "\n",
    "# save as svg\n",
    "# plt.savefig('density_heatmaps.svg')"
   ]
  },
  {
   "cell_type": "code",
   "execution_count": null,
   "metadata": {},
   "outputs": [
    {
     "data": {
      "image/png": "[encoded data removed]",
      "text/plain": [
       "<Figure size 640x480 with 1 Axes>"
      ]
     },
     "metadata": {},
     "output_type": "display_data"
    }
   ],
   "source": [
    "# Initialize the plot\n",
    "fig, ax = plt.subplots()\n",
    "ax.set_xlim(-0.5, ncols-0.5)\n",
    "ax.set_ylim(-0.5, nrows-0.5)\n",
    "ax.set_xticks(range(ncols))\n",
    "ax.set_yticks(range(nrows))\n",
    "\n",
    "# Function to plot trajectories\n",
    "def plot_swarm(trajectories, color, marker):\n",
    "    for trajectory in trajectories:\n",
    "        for state in trajectory:\n",
    "            row, col = obs_to_cords(state, ncols)\n",
    "            # Random jitter within the cell to avoid overlap\n",
    "            jitter = .3\n",
    "            jitter_x = np.random.uniform(-jitter, jitter)\n",
    "            jitter_y = np.random.uniform(-jitter, jitter)\n",
    "            ax.plot(col + jitter_x, row + jitter_y, marker=marker, color=color, alpha=0.4)\n",
    "\n",
    "colors = ['red', 'blue', 'green']\n",
    "markers = ['o', 'x', 's']\n",
    "for trajectory_name in trajos.keys():\n",
    "    plot_swarm(trajos[trajectory_name], colors.pop(), markers.pop())\n",
    "\n",
    "ax.invert_yaxis()  # Invert the y-axis to match the matrix indexing\n",
    "\n",
    "plt.show()"
   ]
  },
  {
   "cell_type": "code",
   "execution_count": null,
   "metadata": {},
   "outputs": [
    {
     "data": {
      "image/png": "[encoded data removed]",
      "text/plain": [
       "<Figure size 400x400 with 1 Axes>"
      ]
     },
     "metadata": {},
     "output_type": "display_data"
    }
   ],
   "source": [
    "def obs_to_cords(state, ncols):\n",
    "    row, col = divmod(state, ncols)\n",
    "    return row, col\n",
    "\n",
    "\n",
    "# Prepare DataFrame\n",
    "data = []\n",
    "\n",
    "for t_type, traj_list in trajos.items():\n",
    "    for traj in traj_list:\n",
    "        for state in traj:\n",
    "            row, col = obs_to_cords(state, ncols)\n",
    "            data.append({'Type': t_type, 'Row': row, 'Col': col})\n",
    "\n",
    "df = pd.DataFrame(data)\n",
    "\n",
    "# Plot\n",
    "plt.figure(figsize=(4, 4))\n",
    "sns.stripplot(data=df, x='Col', y='Row', hue='Type', jitter=1.0, dodge=False, marker='o', alpha=0.3)\n",
    "\n",
    "plt.gca().invert_yaxis()  # Invert y-axis to align with typical matrix indexing\n",
    "plt.legend(title='Trajectory Type')\n",
    "plt.title('Distribution of Trajectory Types in Grid')\n",
    "plt.show()"
   ]
  }
 ],
 "metadata": {
  "kernelspec": {
   "display_name": "az10",
   "language": "python",
   "name": "python3"
  },
  "language_info": {
   "codemirror_mode": {
    "name": "ipython",
    "version": 3
   },
   "file_extension": ".py",
   "mimetype": "text/x-python",
   "name": "python",
   "nbconvert_exporter": "python",
   "pygments_lexer": "ipython3",
   "version": "3.10.13"
  }
 },
 "nbformat": 4,
 "nbformat_minor": 2
}
