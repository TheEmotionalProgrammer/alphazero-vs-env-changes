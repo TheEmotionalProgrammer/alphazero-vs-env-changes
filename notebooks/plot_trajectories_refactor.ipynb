{
 "cells": [
  {
   "cell_type": "code",
   "execution_count": 19,
   "metadata": {},
   "outputs": [],
   "source": [
    "import sys\n",
    "sys.path.append('../src/')\n",
    "from tqdm import tqdm\n",
    "import pandas as pd\n",
    "import wandb\n",
    "import seaborn as sns\n",
    "import numpy as np\n",
    "import matplotlib.pyplot as plt\n"
   ]
  },
  {
   "cell_type": "code",
   "execution_count": 20,
   "metadata": {},
   "outputs": [
    {
     "data": {
      "text/plain": [
       "<Runs ajzero/AlphaZero>"
      ]
     },
     "execution_count": 20,
     "metadata": {},
     "output_type": "execute_result"
    }
   ],
   "source": [
    "\n",
    "api = wandb.Api()\n",
    "entity, project = \"ajzero\", \"AlphaZero\"\n",
    "# tags = ['2024-04-12-15-31-26']\n",
    "# filters = {\"tags\": {\"$in\": tags}}\n",
    "runs = [\"lucky-waterfall-2022\"]\n",
    "filters = {\"display_name\": {\"$in\": runs }}\n",
    "runs = api.runs(entity + \"/\" + project, filters=filters)\n",
    "runs"
   ]
  },
  {
   "cell_type": "code",
   "execution_count": 21,
   "metadata": {},
   "outputs": [
    {
     "name": "stderr",
     "output_type": "stream",
     "text": [
      "100%|██████████| 1/1 [00:00<00:00, 7738.57it/s]\n"
     ]
    },
    {
     "data": {
      "text/html": [
       "<div>\n",
       "<style scoped>\n",
       "    .dataframe tbody tr th:only-of-type {\n",
       "        vertical-align: middle;\n",
       "    }\n",
       "\n",
       "    .dataframe tbody tr th {\n",
       "        vertical-align: top;\n",
       "    }\n",
       "\n",
       "    .dataframe thead th {\n",
       "        text-align: right;\n",
       "    }\n",
       "</style>\n",
       "<table border=\"1\" class=\"dataframe\">\n",
       "  <thead>\n",
       "    <tr style=\"text-align: right;\">\n",
       "      <th></th>\n",
       "      <th>_wandb</th>\n",
       "      <th>Evaluation/Returns</th>\n",
       "      <th>Evaluation/Mean_Returns</th>\n",
       "      <th>Evaluation/Mean_Discounted_Returns</th>\n",
       "      <th>Evaluation/Discounted_Returns</th>\n",
       "      <th>_runtime</th>\n",
       "      <th>trajectories</th>\n",
       "      <th>Evaluation/Entropies</th>\n",
       "      <th>Evaluation/Timesteps</th>\n",
       "      <th>Evaluation/Mean_Entropy</th>\n",
       "      <th>...</th>\n",
       "      <th>policy_loss_weight</th>\n",
       "      <th>sample_batch_ratio</th>\n",
       "      <th>tree_value_transform</th>\n",
       "      <th>observation_embedding</th>\n",
       "      <th>regularization_weight</th>\n",
       "      <th>root_selection_policy</th>\n",
       "      <th>episodes_per_iteration</th>\n",
       "      <th>tree_evaluation_policy</th>\n",
       "      <th>replay_buffer_multiplier</th>\n",
       "      <th>selection_value_transform</th>\n",
       "    </tr>\n",
       "  </thead>\n",
       "  <tbody>\n",
       "    <tr>\n",
       "      <th>0</th>\n",
       "      <td>{'runtime': 29}</td>\n",
       "      <td>{'bins': [-22, -21.859375, -21.71875, -21.5781...</td>\n",
       "      <td>-16.08</td>\n",
       "      <td>-16.08</td>\n",
       "      <td>{'bins': [-22, -21.859375, -21.71875, -21.5781...</td>\n",
       "      <td>30.894931</td>\n",
       "      <td>[[60, 48, 49, 37, 38, 39, 40, 41, 42, 43, 44, ...</td>\n",
       "      <td>{'_type': 'histogram', 'values': [1, 0, 0, 0, ...</td>\n",
       "      <td>{'values': [3, 0, 0, 0, 0, 0, 0, 1, 0, 0, 0, 0...</td>\n",
       "      <td>0.449571</td>\n",
       "      <td>...</td>\n",
       "      <td>0.3</td>\n",
       "      <td>4</td>\n",
       "      <td>identity</td>\n",
       "      <td>coordinate</td>\n",
       "      <td>0.000001</td>\n",
       "      <td>PolicyUCT</td>\n",
       "      <td>6</td>\n",
       "      <td>mvc</td>\n",
       "      <td>15</td>\n",
       "      <td>identity</td>\n",
       "    </tr>\n",
       "  </tbody>\n",
       "</table>\n",
       "<p>1 rows × 52 columns</p>\n",
       "</div>"
      ],
      "text/plain": [
       "            _wandb                                 Evaluation/Returns  \\\n",
       "0  {'runtime': 29}  {'bins': [-22, -21.859375, -21.71875, -21.5781...   \n",
       "\n",
       "   Evaluation/Mean_Returns  Evaluation/Mean_Discounted_Returns  \\\n",
       "0                   -16.08                              -16.08   \n",
       "\n",
       "                       Evaluation/Discounted_Returns   _runtime  \\\n",
       "0  {'bins': [-22, -21.859375, -21.71875, -21.5781...  30.894931   \n",
       "\n",
       "                                        trajectories  \\\n",
       "0  [[60, 48, 49, 37, 38, 39, 40, 41, 42, 43, 44, ...   \n",
       "\n",
       "                                Evaluation/Entropies  \\\n",
       "0  {'_type': 'histogram', 'values': [1, 0, 0, 0, ...   \n",
       "\n",
       "                                Evaluation/Timesteps  Evaluation/Mean_Entropy  \\\n",
       "0  {'values': [3, 0, 0, 0, 0, 0, 0, 1, 0, 0, 0, 0...                 0.449571   \n",
       "\n",
       "   ...  policy_loss_weight  sample_batch_ratio  tree_value_transform  \\\n",
       "0  ...                 0.3                   4              identity   \n",
       "\n",
       "   observation_embedding  regularization_weight  root_selection_policy  \\\n",
       "0             coordinate               0.000001              PolicyUCT   \n",
       "\n",
       "   episodes_per_iteration  tree_evaluation_policy  replay_buffer_multiplier  \\\n",
       "0                       6                     mvc                        15   \n",
       "\n",
       "   selection_value_transform  \n",
       "0                   identity  \n",
       "\n",
       "[1 rows x 52 columns]"
      ]
     },
     "execution_count": 21,
     "metadata": {},
     "output_type": "execute_result"
    }
   ],
   "source": [
    "data = []\n",
    "for run in tqdm(runs):\n",
    "    summary = run.summary._json_dict\n",
    "    config = run.config\n",
    "    summary.update(config)\n",
    "    data.append(summary)\n",
    "\n",
    "df = pd.DataFrame(data)\n",
    "\n",
    "# filter out runs with Evaluation/Mean_Returns == -100\n",
    "df = df[df['Evaluation/Mean_Returns'] != -100]\n",
    "\n",
    "ncols, nrows = df[\"ncols\"][0], 6\n",
    "df"
   ]
  },
  {
   "cell_type": "code",
   "execution_count": 24,
   "metadata": {},
   "outputs": [
    {
     "data": {
      "image/png": "[encoded data removed]",
      "text/plain": [
       "<Figure size 1200x600 with 1 Axes>"
      ]
     },
     "metadata": {},
     "output_type": "display_data"
    }
   ],
   "source": [
    "# filter out 128 planning budget\n",
    "# Assuming 'df' is your DataFrame\n",
    "df['policy_combination'] = df['tree_evaluation_policy'] + \"+\" + df['selection_policy']\n",
    "\n",
    "# Group the DataFrame by both 'policy_combination' and 'planning_budget'\n",
    "grouped = df.groupby(['policy_combination', 'planning_budget'])['trajectories']\n",
    "\n",
    "\n",
    "# Aggregate the trajectories lists within each group\n",
    "aggregated_trajectories = grouped.sum()\n",
    "\n",
    "# Define functions to calculate coordinates and density\n",
    "def obs_to_cords(state, ncols):\n",
    "    row, col = divmod(state, ncols)\n",
    "    return row, col\n",
    "\n",
    "def calculate_density(trajectories, ncols, nrows):\n",
    "    density = np.zeros((nrows, ncols))\n",
    "    for trajectory in trajectories:\n",
    "        for state in trajectory:\n",
    "            row, col = obs_to_cords(state, ncols)\n",
    "            density[row, col] += 1\n",
    "    return density\n",
    "\n",
    "# Determine the number of unique policy combinations and planning budgets\n",
    "n_policies = len(df['policy_combination'].unique())\n",
    "n_budgets = len(df['planning_budget'].unique())\n",
    "\n",
    "# Prepare the plot\n",
    "fig, axs = plt.subplots(n_budgets, n_policies, figsize=(ncols * n_policies, nrows * n_budgets))\n",
    "\n",
    "# Plot each subgroup\n",
    "for (policy_combination, planning_budget), trajectories in aggregated_trajectories.items():\n",
    "    i = df['planning_budget'].unique().tolist().index(planning_budget)\n",
    "    j = df['policy_combination'].unique().tolist().index(policy_combination)\n",
    "    density = calculate_density(trajectories, ncols, nrows) / len(trajectories)\n",
    "    ax = axs[i][j] if n_budgets > 1 and n_policies > 1 else axs\n",
    "    sns.heatmap(density, ax=ax, cmap='Greens', cbar=False, annot=True, fmt='.2f')\n",
    "    ax.set_xticks(range(ncols))\n",
    "    ax.set_yticks(range(nrows))\n",
    "    ax.set_aspect('equal')  # Set aspect ratio to be equal, making each cell square\n",
    "    # set subtitle\n",
    "    ax.set_title(f\"{policy_combination}, Budget: {planning_budget}\")\n",
    "\n",
    "\n",
    "\n",
    "plt.show()\n"
   ]
  },
  {
   "cell_type": "code",
   "execution_count": null,
   "metadata": {},
   "outputs": [
    {
     "data": {
      "image/png": "[encoded data removed]",
      "text/plain": [
       "<Figure size 600x600 with 1 Axes>"
      ]
     },
     "metadata": {},
     "output_type": "display_data"
    }
   ],
   "source": [
    "import matplotlib.patches as mpatches\n",
    "grouped = df.groupby(['planning_budget', 'policy_combination'])['trajectories'].sum()\n",
    "\n",
    "\n",
    "# Determine the number of unique planning budgets\n",
    "n_budgets = len(grouped.index.get_level_values(0).unique())\n",
    "\n",
    "# Prepare a single figure with multiple subplots (one for each planning_budget)\n",
    "fig, axs = plt.subplots(1, n_budgets, figsize=(6 * n_budgets, 6))\n",
    "\n",
    "# Iterate over each planning_budget and create RGB heatmaps\n",
    "for idx, (planning_budget, budget_group) in enumerate(grouped.groupby(level=0)):\n",
    "    rgb_image = np.zeros((nrows, ncols, 3))  # Initialize RGB layers\n",
    "    colors = ['Red', 'Green', 'Blue']  # Map trajos keys to RGB channels\n",
    "    channel_colors = {name: color for name, color in zip(budget_group.index.get_level_values(1), colors)}\n",
    "\n",
    "    # Compute density for each policy combination and assign to RGB channels\n",
    "    for jdx, ((_, policy_combination), trajectories) in enumerate(budget_group.items()):\n",
    "        density = calculate_density(trajectories, ncols, nrows) / len(trajectories)\n",
    "        norm_density = density / np.max(density, where=(density!=0), initial=1)  # Normalize avoiding division by zero\n",
    "        rgb_image[:, :, jdx % 3] += norm_density  # Accumulate in RGB layers, repeating colors if more than 3 policies\n",
    "\n",
    "    ax = axs[idx] if n_budgets > 1 else axs\n",
    "    ax.imshow(rgb_image, aspect='equal')\n",
    "    ax.axis('off')  # Hide grid lines and labels\n",
    "\n",
    "    # Create a legend\n",
    "    legend_patches = [mpatches.Patch(color=color, label=name) for name, color in channel_colors.items()]\n",
    "    ax.legend(handles=legend_patches, loc='upper left')\n",
    "    ax.set_title(f\"Budget: {planning_budget}\")\n",
    "\n",
    "plt.tight_layout()\n",
    "plt.savefig(\"outfiles/dist_training_cliff_rgb.pdf\")\n",
    "plt.show()"
   ]
  }
 ],
 "metadata": {
  "kernelspec": {
   "display_name": "az10",
   "language": "python",
   "name": "python3"
  },
  "language_info": {
   "codemirror_mode": {
    "name": "ipython",
    "version": 3
   },
   "file_extension": ".py",
   "mimetype": "text/x-python",
   "name": "python",
   "nbconvert_exporter": "python",
   "pygments_lexer": "ipython3",
   "version": "3.10.13"
  }
 },
 "nbformat": 4,
 "nbformat_minor": 2
}
