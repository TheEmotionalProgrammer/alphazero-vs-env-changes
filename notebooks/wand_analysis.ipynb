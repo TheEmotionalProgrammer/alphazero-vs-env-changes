{
 "cells": [
  {
   "cell_type": "code",
   "execution_count": 6,
   "metadata": {},
   "outputs": [],
   "source": [
    "import sys\n",
    "sys.path.append('../src/')\n",
    "from tqdm import tqdm\n",
    "import pandas as pd\n",
    "import wandb\n",
    "import asyncio\n"
   ]
  },
  {
   "cell_type": "code",
   "execution_count": 7,
   "metadata": {},
   "outputs": [],
   "source": [
    "\n",
    "api = wandb.Api()\n",
    "entity, project = \"ajzero\", \"AlphaZero\"\n",
    "tags = ['2024-04-12-13-38-22']\n",
    "filters = {\"tags\": {\"$in\": tags}}\n",
    "runs = api.runs(entity + \"/\" + project, filters=filters)\n"
   ]
  },
  {
   "cell_type": "code",
   "execution_count": 8,
   "metadata": {},
   "outputs": [
    {
     "data": {
      "text/plain": [
       "[None,\n",
       " None,\n",
       " None,\n",
       " None,\n",
       " None,\n",
       " None,\n",
       " None,\n",
       " None,\n",
       " None,\n",
       " None,\n",
       " None,\n",
       " None,\n",
       " None,\n",
       " None,\n",
       " None,\n",
       " None,\n",
       " None,\n",
       " None,\n",
       " None,\n",
       " None,\n",
       " None,\n",
       " None,\n",
       " None,\n",
       " None,\n",
       " None,\n",
       " None,\n",
       " None,\n",
       " None,\n",
       " None,\n",
       " None,\n",
       " None,\n",
       " None,\n",
       " None,\n",
       " None,\n",
       " None,\n",
       " None,\n",
       " None,\n",
       " None,\n",
       " None,\n",
       " None,\n",
       " None,\n",
       " None,\n",
       " None,\n",
       " None,\n",
       " None]"
      ]
     },
     "execution_count": 8,
     "metadata": {},
     "output_type": "execute_result"
    }
   ],
   "source": [
    "async def add_max_to_summary(run, metrics):\n",
    "    try:\n",
    "        history: pd.DataFrame = run.history()\n",
    "        # get the row with the highest Self_Play/Mean_Reward\n",
    "        for metric in metrics:\n",
    "            best_row = history.loc[history[metric].idxmax()]\n",
    "            run.summary[f'max_{metric}'] = best_row[metric]\n",
    "            run.summary[f'max_{metric}_step'] = best_row['_step']\n",
    "            run.summary.update()\n",
    "    except:\n",
    "        pass\n",
    "\n",
    "\n",
    "\n",
    "async def get_history(run):\n",
    "    return await run.history()\n",
    "\n",
    "metrics = [\"Self_Play/Mean_Discounted_Return\", \"Evaluation/Mean_Discounted_Returns\"]\n",
    "\n",
    "tasks = []\n",
    "for run in runs:\n",
    "    if run.state != \"finished\":\n",
    "        continue\n",
    "    tasks.append(add_max_to_summary(run, metrics))\n",
    "\n",
    "await asyncio.gather(*tasks)\n"
   ]
  },
  {
   "cell_type": "code",
   "execution_count": null,
   "metadata": {},
   "outputs": [],
   "source": []
  }
 ],
 "metadata": {
  "kernelspec": {
   "display_name": "az10",
   "language": "python",
   "name": "python3"
  },
  "language_info": {
   "codemirror_mode": {
    "name": "ipython",
    "version": 3
   },
   "file_extension": ".py",
   "mimetype": "text/x-python",
   "name": "python",
   "nbconvert_exporter": "python",
   "pygments_lexer": "ipython3",
   "version": "3.10.13"
  }
 },
 "nbformat": 4,
 "nbformat_minor": 2
}
