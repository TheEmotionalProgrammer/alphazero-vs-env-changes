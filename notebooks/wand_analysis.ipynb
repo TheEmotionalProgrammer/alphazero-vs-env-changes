{
 "cells": [
  {
   "cell_type": "code",
   "execution_count": null,
   "metadata": {},
   "outputs": [],
   "source": [
    "import sys\n",
    "sys.path.append('../src/')"
   ]
  }
 ],
 "metadata": {
  "kernelspec": {
   "display_name": "az10",
   "language": "python",
   "name": "python3"
  },
  "language_info": {
   "name": "python",
   "version": "3.10.13"
  }
 },
 "nbformat": 4,
 "nbformat_minor": 2
}
