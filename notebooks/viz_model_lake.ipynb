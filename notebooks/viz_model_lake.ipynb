{
 "cells": [
  {
   "cell_type": "code",
   "execution_count": 1,
   "metadata": {},
   "outputs": [],
   "source": [
    "import sys\n",
    "sys.path.append('../src/')\n",
    "from tqdm import tqdm\n",
    "import pandas as pd\n",
    "import wandb\n",
    "import seaborn as sns\n",
    "import numpy as np\n",
    "import matplotlib.pyplot as plt\n",
    "import gymnasium as gym\n",
    "import experiments.parameters as parameters\n",
    "from environments.observation_embeddings import CoordinateEmbedding, ObservationEmbedding\n"
   ]
  },
  {
   "cell_type": "code",
   "execution_count": 2,
   "metadata": {},
   "outputs": [
    {
     "data": {
      "text/plain": [
       "{'max_episode_length': 100,\n",
       " 'iterations': 30,\n",
       " 'observation_embedding': 'coordinate',\n",
       " 'puct_c': 1.0,\n",
       " 'eval_param': 10.0,\n",
       " 'n_steps_learning': 1,\n",
       " 'env_description': 'FrozenLake-v1-4x4',\n",
       " 'ncols': 4,\n",
       " 'env_params': {'id': 'FrozenLake-v1',\n",
       "  'desc': ['SFFF', 'FHFH', 'FFFH', 'HFFG'],\n",
       "  'is_slippery': False,\n",
       "  'max_episode_steps': 1000000000,\n",
       "  'hole_reward': -1.0},\n",
       " 'discount_factor': 0.9,\n",
       " 'optimal_value': 0.5904900000000001,\n",
       " 'worst_value': -1.0,\n",
       " 'training_epochs': 2}"
      ]
     },
     "execution_count": 2,
     "metadata": {},
     "output_type": "execute_result"
    }
   ],
   "source": [
    "parameters.env_challenges[2]"
   ]
  },
  {
   "cell_type": "code",
   "execution_count": 3,
   "metadata": {},
   "outputs": [
    {
     "name": "stdout",
     "output_type": "stream",
     "text": [
      "nrows: 4, ncols: 4\n"
     ]
    },
    {
     "data": {
      "text/plain": [
       "{0: 0.531441,\n",
       " 1: 0.5904900000000001,\n",
       " 2: 0.6561,\n",
       " 3: 0.5904900000000001,\n",
       " 4: 0.5904900000000001,\n",
       " 5: 0.0,\n",
       " 6: 0.7290000000000001,\n",
       " 7: 0.0,\n",
       " 8: 0.6561,\n",
       " 9: 0.7290000000000001,\n",
       " 10: 0.81,\n",
       " 11: 0.0,\n",
       " 12: 0.0,\n",
       " 13: 0.81,\n",
       " 14: 0.9,\n",
       " 15: 0.81}"
      ]
     },
     "execution_count": 3,
     "metadata": {},
     "output_type": "execute_result"
    }
   ],
   "source": [
    "from core.mcts import LakeDistanceMCTS\n",
    "from log_code.investigate_model import create_figure_and_axes, plot_value_network\n",
    "\n",
    "\n",
    "challenge = parameters.env_challenges[2]\n",
    "\n",
    "hparams = {**parameters.base_parameters, **challenge}\n",
    "env = gym.make(**hparams[\"env_params\"])\n",
    "observation_embedding: ObservationEmbedding = CoordinateEmbedding(env.observation_space, hparams[\"ncols\"] if \"ncols\" in hparams else 12)\n",
    "\n",
    "lake_map = hparams[\"env_params\"][\"desc\"]\n",
    "agent = LakeDistanceMCTS(\n",
    "    lake_map,\n",
    "    root_selection_policy=None,\n",
    "    selection_policy=None,\n",
    "    discount_factor=hparams[\"discount_factor\"],\n",
    "    )\n",
    "\n",
    "rows, cols = observation_embedding.nrows, observation_embedding.ncols\n",
    "\n",
    "def investigate_model():\n",
    "    return {obs: agent.get_value(obs) for obs in range(observation_embedding.observation_space.n)}\n",
    "\n",
    "output = investigate_model()\n",
    "output"
   ]
  },
  {
   "cell_type": "code",
   "execution_count": 4,
   "metadata": {},
   "outputs": [
    {
     "data": {
      "text/plain": [
       "{(3, 3): 2,\n",
       " (3, 2): 1,\n",
       " (3, 1): 2,\n",
       " (2, 2): 2,\n",
       " (2, 1): 3,\n",
       " (1, 2): 3,\n",
       " (2, 0): 4,\n",
       " (0, 2): 4,\n",
       " (1, 0): 5,\n",
       " (0, 3): 5,\n",
       " (0, 1): 5,\n",
       " (0, 0): 6}"
      ]
     },
     "execution_count": 4,
     "metadata": {},
     "output_type": "execute_result"
    }
   ],
   "source": [
    "agent.distances"
   ]
  },
  {
   "cell_type": "code",
   "execution_count": 5,
   "metadata": {},
   "outputs": [
    {
     "data": {
      "image/png": "[encoded data removed]",
      "text/plain": [
       "<Figure size 640x480 with 1 Axes>"
      ]
     },
     "metadata": {},
     "output_type": "display_data"
    }
   ],
   "source": [
    "\n",
    "grid = np.zeros((rows, cols))\n",
    "for state, value in output.items():\n",
    "    row, col = divmod(state, cols)\n",
    "    grid[row, col] = value\n",
    "\n",
    "cliff_coords = [(r, c) for r, row in enumerate(lake_map) for c, char in enumerate(row) if char == 'H']\n",
    "goal_coord = next((r, c) for r, row in enumerate(lake_map) for c, char in enumerate(row) if char == 'G')\n",
    "\n",
    "nrows = grid.shape[0]\n",
    "ncols = grid.shape[1]\n",
    "# Cliff and goal state coordinates\n",
    "\n",
    "# Set cliff and goal states to np.nan to hide their annotations\n",
    "for (row, col) in cliff_coords:\n",
    "    grid[row, col] = np.nan  # Remove numbers from the cliff cells\n",
    "goal_row, goal_col = goal_coord\n",
    "grid[goal_row, goal_col] = np.nan  # Remove numbers from the goal cell\n",
    "# turn of axis labels\n",
    "sns.heatmap(grid, annot=True, fmt=\".2f\", cbar=False, square=True, cmap=\"Greens\", xticklabels=False, yticklabels=False)\n",
    "\n",
    "for (row, col) in cliff_coords:\n",
    "    plt.gca().add_patch(plt.Rectangle((col, row), 1, 1, fill=True, color='black', lw=0))\n",
    "\n",
    "    # Highlight the goal state with yellow color\n",
    "    plt.gca().add_patch(plt.Rectangle((goal_col, goal_row), 1, 1, fill=True, color='yellow', lw=0))\n",
    "plt.title(\"4x4 Frozen Lake Heuristic Value Function\")\n",
    "plt.savefig(f\"outfiles/lake_heuristic_value_function.pdf\", bbox_inches='tight')\n",
    "plt.show()"
   ]
  }
 ],
 "metadata": {
  "kernelspec": {
   "display_name": "az10",
   "language": "python",
   "name": "python3"
  },
  "language_info": {
   "codemirror_mode": {
    "name": "ipython",
    "version": 3
   },
   "file_extension": ".py",
   "mimetype": "text/x-python",
   "name": "python",
   "nbconvert_exporter": "python",
   "pygments_lexer": "ipython3",
   "version": "3.10.13"
  }
 },
 "nbformat": 4,
 "nbformat_minor": 2
}
